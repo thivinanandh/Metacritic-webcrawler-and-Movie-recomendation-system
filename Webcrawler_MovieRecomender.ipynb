{
 "cells": [
  {
   "cell_type": "markdown",
   "id": "1300ffbc-8d71-48cf-a8bc-2089d5134316",
   "metadata": {},
   "source": [
    "# Metacritic webcrawler and Movie recomendation system \n",
    "---\n",
    "\n",
    "- This program will crawl through the metacritic.com website and will collect the details of top 500 movies(directors , genre)etc. \n",
    "- Then use the data to constuct dataframes and dictionaries for easy retrival of required data. \n",
    "- Compute the cosine distance between movies(based on genre) and then provide recomendation to users\"\n"
   ]
  },
  {
   "cell_type": "markdown",
   "id": "6a1b6ef7-d0e4-448b-ae5e-e592d2f208f4",
   "metadata": {},
   "source": [
    "#### Import Libraries for the Task"
   ]
  },
  {
   "cell_type": "code",
   "execution_count": 4,
   "id": "9ec75f83-12ff-4dd3-9084-c0964066a9bd",
   "metadata": {},
   "outputs": [],
   "source": [
    "import httplib2\n",
    "from bs4 import BeautifulSoup, SoupStrainer\n",
    "import requests\n",
    "import numpy as np\n",
    "import matplotlib.pyplot as plt\n",
    "from tqdm import tqdm\n",
    "import pandas as pd\n",
    "import copy\n",
    "from itertools import chain\n",
    "from numpy import dot\n",
    "from numpy.linalg import norm\n",
    "# url = 'https://www.metacritic.com/browse/movies/score/metascore/all/filtered?sort=desc'\n",
    "\n",
    "# user_agent = {'User-agent': 'Mozilla/5.0'}\n",
    "# response = requests.get(url, headers = user_agent)\n",
    "\n",
    "# soup = BeautifulSoup(response.text, 'html.parser')\n",
    "# k = soup.find_all(\"a\", {\"class\": \"title\"})"
   ]
  },
  {
   "cell_type": "markdown",
   "id": "46bbffd0-d748-4979-af16-5ebe316c5d31",
   "metadata": {},
   "source": [
    "## URL CRAWLER\n",
    "\n",
    "Crawls through meta critic site and fetches all Movie names and their main pages link"
   ]
  },
  {
   "cell_type": "code",
   "execution_count": 5,
   "id": "55f48cb6-bd8d-4f4d-b018-e602ad4ded53",
   "metadata": {},
   "outputs": [],
   "source": [
    "MOVIENAME = []\n",
    "MOVIELINK = []\n",
    "\n",
    "url = 'https://www.metacritic.com/browse/movies/score/metascore/all/filtered?sort=desc'\n",
    "\n"
   ]
  },
  {
   "cell_type": "markdown",
   "id": "3d2eb9d0-5a08-4967-9c12-23e6df2fb512",
   "metadata": {},
   "source": [
    "### Links retrival from subpages\n",
    "\n",
    "retrives the link from all the sub pages , since only 100 results appear on one page"
   ]
  },
  {
   "cell_type": "code",
   "execution_count": 6,
   "id": "de6a9451-f12a-4bf7-8c1d-8148c4d78060",
   "metadata": {},
   "outputs": [
    {
     "name": "stderr",
     "output_type": "stream",
     "text": [
      "  0%|                                                                                   | 0/5 [00:00<?, ?it/s]\n",
      "100%|███████████████████████████████████████████████████████████████████| 100/100 [00:00<00:00, 180400.17it/s]\u001b[A\n",
      " 20%|███████████████                                                            | 1/5 [00:01<00:07,  1.94s/it]\n",
      "100%|███████████████████████████████████████████████████████████████████| 100/100 [00:00<00:00, 244280.96it/s]\u001b[A\n",
      " 40%|██████████████████████████████                                             | 2/5 [00:03<00:05,  1.78s/it]\n",
      "0it [00:00, ?it/s]\u001b[A\n",
      " 60%|█████████████████████████████████████████████                              | 3/5 [00:04<00:02,  1.49s/it]\n",
      "0it [00:00, ?it/s]\u001b[A\n",
      " 80%|████████████████████████████████████████████████████████████               | 4/5 [00:06<00:01,  1.50s/it]\n",
      "0it [00:00, ?it/s]\u001b[A\n",
      "100%|███████████████████████████████████████████████████████████████████████████| 5/5 [00:07<00:00,  1.49s/it]\n"
     ]
    }
   ],
   "source": [
    "from tqdm import tqdm\n",
    "\n",
    "for i in tqdm(range(5)):\n",
    "    if(i==0):\n",
    "        url = url\n",
    "    else:\n",
    "        url = url + f\"&page={i}\"\n",
    "    user_agent = {'User-agent': 'Mozilla/5.0'}\n",
    "    response = requests.get(url, headers = user_agent)\n",
    "\n",
    "    soup = BeautifulSoup(response.text, 'html.parser')\n",
    "    links = soup.find_all(\"a\", {\"class\": \"title\"})\n",
    "    \n",
    "    for k in tqdm(links):\n",
    "        MOVIENAME.append(k.text)\n",
    "        MOVIELINK.append( \"https://www.metacritic.com\" +  k['href'])"
   ]
  },
  {
   "cell_type": "markdown",
   "id": "421b2ff9-ada4-4a32-b69c-60740db993be",
   "metadata": {},
   "source": [
    "### Save the links as csv \n",
    "\n",
    "save the fetched links as csv for book keeping, we can use this later to collecct other data"
   ]
  },
  {
   "cell_type": "code",
   "execution_count": 7,
   "id": "12e492b3-2bff-479e-beb0-8eb0e12eb68e",
   "metadata": {
    "tags": []
   },
   "outputs": [],
   "source": [
    "import pandas as pd\n",
    "from tqdm import tqdm\n",
    "MovieLinksDF = pd.DataFrame()\n",
    "MovieLinksDF[\"movie\"] = MOVIENAME\n",
    "MovieLinksDF[\"link\"] = MOVIELINK\n",
    "\n",
    "MovieLinksDF.to_csv(\"MovieLinks.csv\")"
   ]
  },
  {
   "cell_type": "code",
   "execution_count": 9,
   "id": "468df973-cb47-43a3-a40c-bf8bec409b29",
   "metadata": {},
   "outputs": [
    {
     "data": {
      "text/html": [
       "<div>\n",
       "<style scoped>\n",
       "    .dataframe tbody tr th:only-of-type {\n",
       "        vertical-align: middle;\n",
       "    }\n",
       "\n",
       "    .dataframe tbody tr th {\n",
       "        vertical-align: top;\n",
       "    }\n",
       "\n",
       "    .dataframe thead th {\n",
       "        text-align: right;\n",
       "    }\n",
       "</style>\n",
       "<table border=\"1\" class=\"dataframe\">\n",
       "  <thead>\n",
       "    <tr style=\"text-align: right;\">\n",
       "      <th></th>\n",
       "      <th>movie</th>\n",
       "      <th>link</th>\n",
       "    </tr>\n",
       "  </thead>\n",
       "  <tbody>\n",
       "    <tr>\n",
       "      <th>0</th>\n",
       "      <td>The Godfather</td>\n",
       "      <td>https://www.metacritic.com/movie/the-godfather</td>\n",
       "    </tr>\n",
       "    <tr>\n",
       "      <th>1</th>\n",
       "      <td>Citizen Kane</td>\n",
       "      <td>https://www.metacritic.com/movie/citizen-kane</td>\n",
       "    </tr>\n",
       "    <tr>\n",
       "      <th>2</th>\n",
       "      <td>Rear Window</td>\n",
       "      <td>https://www.metacritic.com/movie/rear-window</td>\n",
       "    </tr>\n",
       "    <tr>\n",
       "      <th>3</th>\n",
       "      <td>Casablanca</td>\n",
       "      <td>https://www.metacritic.com/movie/casablanca</td>\n",
       "    </tr>\n",
       "    <tr>\n",
       "      <th>4</th>\n",
       "      <td>Boyhood</td>\n",
       "      <td>https://www.metacritic.com/movie/boyhood</td>\n",
       "    </tr>\n",
       "    <tr>\n",
       "      <th>...</th>\n",
       "      <td>...</td>\n",
       "      <td>...</td>\n",
       "    </tr>\n",
       "    <tr>\n",
       "      <th>195</th>\n",
       "      <td>The African Queen</td>\n",
       "      <td>https://www.metacritic.com/movie/the-african-q...</td>\n",
       "    </tr>\n",
       "    <tr>\n",
       "      <th>196</th>\n",
       "      <td>The Triplets of Belleville</td>\n",
       "      <td>https://www.metacritic.com/movie/the-triplets-...</td>\n",
       "    </tr>\n",
       "    <tr>\n",
       "      <th>197</th>\n",
       "      <td>The Queen</td>\n",
       "      <td>https://www.metacritic.com/movie/the-queen</td>\n",
       "    </tr>\n",
       "    <tr>\n",
       "      <th>198</th>\n",
       "      <td>Flee</td>\n",
       "      <td>https://www.metacritic.com/movie/flee</td>\n",
       "    </tr>\n",
       "    <tr>\n",
       "      <th>199</th>\n",
       "      <td>All Quiet on the Western Front</td>\n",
       "      <td>https://www.metacritic.com/movie/all-quiet-on-...</td>\n",
       "    </tr>\n",
       "  </tbody>\n",
       "</table>\n",
       "<p>200 rows × 2 columns</p>\n",
       "</div>"
      ],
      "text/plain": [
       "                              movie  \\\n",
       "0                     The Godfather   \n",
       "1                      Citizen Kane   \n",
       "2                       Rear Window   \n",
       "3                        Casablanca   \n",
       "4                           Boyhood   \n",
       "..                              ...   \n",
       "195               The African Queen   \n",
       "196      The Triplets of Belleville   \n",
       "197                       The Queen   \n",
       "198                            Flee   \n",
       "199  All Quiet on the Western Front   \n",
       "\n",
       "                                                  link  \n",
       "0       https://www.metacritic.com/movie/the-godfather  \n",
       "1        https://www.metacritic.com/movie/citizen-kane  \n",
       "2         https://www.metacritic.com/movie/rear-window  \n",
       "3          https://www.metacritic.com/movie/casablanca  \n",
       "4             https://www.metacritic.com/movie/boyhood  \n",
       "..                                                 ...  \n",
       "195  https://www.metacritic.com/movie/the-african-q...  \n",
       "196  https://www.metacritic.com/movie/the-triplets-...  \n",
       "197         https://www.metacritic.com/movie/the-queen  \n",
       "198              https://www.metacritic.com/movie/flee  \n",
       "199  https://www.metacritic.com/movie/all-quiet-on-...  \n",
       "\n",
       "[200 rows x 2 columns]"
      ]
     },
     "execution_count": 9,
     "metadata": {},
     "output_type": "execute_result"
    }
   ],
   "source": [
    "MovieLinksDF"
   ]
  },
  {
   "cell_type": "markdown",
   "id": "f9d70edd-eff2-4f12-9e35-6636859b675b",
   "metadata": {},
   "source": [
    "## Web Crawler\n",
    "\n",
    "using the links collected for each movies, navigate to the URL of the metacritic site and we could collect the details such as director and genre from the main page. The logic is written to check for missing values and also to accomodate multiple values in a given category"
   ]
  },
  {
   "cell_type": "code",
   "execution_count": null,
   "id": "e09e6d3f-54d0-4753-a028-43495720f5ad",
   "metadata": {
    "tags": []
   },
   "outputs": [],
   "source": [
    "import time\n",
    "import random\n",
    "DIRECTORSLIST = []\n",
    "GENRELIST = []\n",
    "\n",
    "user_agent_list = [\n",
    "    # Chrome\n",
    "    'Mozilla/5.0 (Windows NT 10.0; Win64; x64) AppleWebKit/537.36 (KHTML, like Gecko) Chrome/60.0.3112.113 Safari/537.36',\n",
    "    'Mozilla/5.0 (Windows NT 6.1; Win64; x64) AppleWebKit/537.36 (KHTML, like Gecko) Chrome/60.0.3112.90 Safari/537.36',\n",
    "    'Mozilla/5.0 (Windows NT 5.1; Win64; x64) AppleWebKit/537.36 (KHTML, like Gecko) Chrome/60.0.3112.90 Safari/537.36',\n",
    "    'Mozilla/5.0 (Windows NT 6.2; Win64; x64) AppleWebKit/537.36 (KHTML, like Gecko) Chrome/60.0.3112.90 Safari/537.36',\n",
    "    'Mozilla/5.0 (X11; Linux x86_64) AppleWebKit/537.36 (KHTML, like Gecko) Chrome/44.0.2403.157 Safari/537.36',\n",
    "    'Mozilla/5.0 (Windows NT 6.3; Win64; x64) AppleWebKit/537.36 (KHTML, like Gecko) Chrome/60.0.3112.113 Safari/537.36',\n",
    "    'Mozilla/5.0 (Windows NT 10.0; Win64; x64) AppleWebKit/537.36 (KHTML, like Gecko) Chrome/57.0.2987.133 Safari/537.36',\n",
    "    'Mozilla/5.0 (Windows NT 6.1; Win64; x64) AppleWebKit/537.36 (KHTML, like Gecko) Chrome/57.0.2987.133 Safari/537.36',\n",
    "    'Mozilla/5.0 (Windows NT 10.0; Win64; x64) AppleWebKit/537.36 (KHTML, like Gecko) Chrome/55.0.2883.87 Safari/537.36',\n",
    "    'Mozilla/5.0 (Windows NT 6.1; Win64; x64) AppleWebKit/537.36 (KHTML, like Gecko) Chrome/55.0.2883.87 Safari/537.36',\n",
    "    'Mozilla/5.0 (Windows NT 6.1; WOW64) AppleWebKit/537.36 (KHTML, like Gecko) Chrome/53.0.2785.116 Safari/537.36'\n",
    "    # Firefox\n",
    "    'Mozilla/4.0 (compatible; MSIE 9.0; Windows NT 6.1)',\n",
    "    'Mozilla/5.0 (Windows NT 6.1; WOW64; Trident/7.0; rv:11.0) like Gecko',\n",
    "    'Mozilla/5.0 (compatible; MSIE 9.0; Windows NT 6.1; WOW64; Trident/5.0)',\n",
    "    'Mozilla/5.0 (Windows NT 6.1; Trident/7.0; rv:11.0) like Gecko',\n",
    "    'Mozilla/5.0 (Windows NT 6.2; WOW64; Trident/7.0; rv:11.0) like Gecko',\n",
    "    'Mozilla/5.0 (Windows NT 10.0; WOW64; Trident/7.0; rv:11.0) like Gecko',\n",
    "    'Mozilla/5.0 (compatible; MSIE 9.0; Windows NT 6.0; Trident/5.0)',\n",
    "    'Mozilla/5.0 (Windows NT 6.3; WOW64; Trident/7.0; rv:11.0) like Gecko',\n",
    "    'Mozilla/5.0 (compatible; MSIE 9.0; Windows NT 6.1; Trident/5.0)',\n",
    "    'Mozilla/5.0 (Windows NT 6.1; Win64; x64; Trident/7.0; rv:11.0) like Gecko',\n",
    "    'Mozilla/5.0 (compatible; MSIE 10.0; Windows NT 6.1; WOW64; Trident/6.0)',\n",
    "    'Mozilla/5.0 (compatible; MSIE 10.0; Windows NT 6.1; Trident/6.0)',\n",
    "    'Mozilla/4.0 (compatible; MSIE 8.0; Windows NT 5.1; Trident/4.0; .NET CLR 2.0.50727; .NET CLR 3.0.4506.2152; .NET CLR 3.5.30729)',\n",
    "    'Mozilla/5.0 (X11; Ubuntu; Linux x86_64; rv:59.0) Gecko/20100101 Firefox/59.0'\n",
    "]\n",
    "\n",
    "def get_random_agent():\n",
    "    return random.choice(user_agent_list)\n",
    "\n",
    "for index, row in tqdm(MovieLinksDF.iterrows()):\n",
    "    # time.sleep(2)\n",
    "    url = row['link']\n",
    "    print(\"URL : \" , url , \"movie : \" , row['movie'])\n",
    "    \n",
    "    user_agent = {'User-agent':  get_random_agent()}\n",
    "    response = requests.get(url, headers = user_agent)\n",
    "\n",
    "    if(response.status_code != 200):\n",
    "        print(\" Error in Response : \",response.status_code )\n",
    "        continue;\n",
    "    else:\n",
    "        print(\"Response Received\")\n",
    "        \n",
    "    soup = BeautifulSoup(response.text, 'html.parser')\n",
    "    directors = soup.find_all(\"div\", {\"class\": \"director\"})\n",
    "    directors_a = directors[0].find_all('a')\n",
    "    \n",
    "    minDirList = []\n",
    "    if(len(directors_a) == 0):\n",
    "        minDirList.append(\"null\")\n",
    "    else:\n",
    "        for direc in directors_a:\n",
    "            minDirList.append(direc.span.text)\n",
    "    DIRECTORSLIST.append(minDirList)\n",
    "\n",
    "    genres = soup.find_all(\"div\", {\"class\": \"genres\"})\n",
    "    genreList = genres[0].find_all('span')[1].find_all('span')\n",
    "\n",
    "    minGenre = []\n",
    "    if(len(genreList) == 0):\n",
    "        minDirList.append(\"null\")\n",
    "    else:  \n",
    "        for g in genreList:\n",
    "            minGenre.append(g.text)\n",
    "    GENRELIST.append(minGenre)"
   ]
  },
  {
   "cell_type": "code",
   "execution_count": 16,
   "id": "354add20-3e75-4461-ade0-071f27f7bdb9",
   "metadata": {},
   "outputs": [
    {
     "name": "stdout",
     "output_type": "stream",
     "text": [
      "<Response [403]>\n"
     ]
    }
   ],
   "source": [
    "user_agent = {'User-agent': 'Mozilla/5.0'}\n",
    "response = requests.get('https://www.metacritic.com/movie/citizen-kane', headers = user_agent)\n",
    "print(response)\n",
    "# soup = BeautifulSoup(response.text, 'html.parser')\n",
    "# directors = soup.find_all(\"div\", {\"class\": \"director\"})"
   ]
  },
  {
   "cell_type": "code",
   "execution_count": null,
   "id": "9090bcbc-a576-44a7-85c1-b720ce9f6e8d",
   "metadata": {},
   "outputs": [],
   "source": [
    "import copy\n",
    "\n",
    "DIRECTORSLIST_copy = copy.deepcopy(DIRECTORSLIST)\n",
    "GENRELIST_copy = copy.deepcopy(GENRELIST)"
   ]
  },
  {
   "cell_type": "markdown",
   "id": "8ff21c0d-b58a-46d2-9c0c-ae841d1077bf",
   "metadata": {},
   "source": [
    "k[0].text## Add the values to the Dataframe\n",
    "\n",
    "Add the fetched information to the main dataframe for storage purpose\n",
    "\n",
    "Note : The dataframe here is used only for temporarly storing the values. The calulation are done using the dictionary datastructure as mentioned in the document"
   ]
  },
  {
   "cell_type": "code",
   "execution_count": null,
   "id": "4d7cd420-a657-4c0a-8036-3d8aff89f347",
   "metadata": {
    "tags": []
   },
   "outputs": [],
   "source": [
    "MovieLinksDF[\"director\"] = DIRECTORSLIST\n",
    "MovieLinksDF[\"genre\"] = GENRELIST"
   ]
  },
  {
   "cell_type": "markdown",
   "id": "b09c6e12-171e-41b4-87f5-45a1516fdc2f",
   "metadata": {
    "tags": []
   },
   "source": [
    "#### Save the object for Future access\n",
    "\n",
    "Dump the dataframe as pickle object"
   ]
  },
  {
   "cell_type": "code",
   "execution_count": 10,
   "id": "5fb26573-edee-4455-8fbc-2cbfbc97c391",
   "metadata": {},
   "outputs": [],
   "source": [
    "MovieLinksDF.to_pickle('moviedb.pkl')"
   ]
  },
  {
   "cell_type": "markdown",
   "id": "e98c7995-0e6e-45e5-8c60-a700db8eef86",
   "metadata": {},
   "source": [
    "### CSV\n",
    "\n",
    "Dump the dataframe as csv as instructed"
   ]
  },
  {
   "cell_type": "code",
   "execution_count": 11,
   "id": "0c464da9-beb2-4293-a4d3-f6613da16ecd",
   "metadata": {},
   "outputs": [
    {
     "data": {
      "text/html": [
       "<div>\n",
       "<style scoped>\n",
       "    .dataframe tbody tr th:only-of-type {\n",
       "        vertical-align: middle;\n",
       "    }\n",
       "\n",
       "    .dataframe tbody tr th {\n",
       "        vertical-align: top;\n",
       "    }\n",
       "\n",
       "    .dataframe thead th {\n",
       "        text-align: right;\n",
       "    }\n",
       "</style>\n",
       "<table border=\"1\" class=\"dataframe\">\n",
       "  <thead>\n",
       "    <tr style=\"text-align: right;\">\n",
       "      <th></th>\n",
       "      <th>movie</th>\n",
       "      <th>link</th>\n",
       "    </tr>\n",
       "  </thead>\n",
       "  <tbody>\n",
       "    <tr>\n",
       "      <th>0</th>\n",
       "      <td>The Godfather</td>\n",
       "      <td>https://www.metacritic.com/movie/the-godfather</td>\n",
       "    </tr>\n",
       "    <tr>\n",
       "      <th>1</th>\n",
       "      <td>Citizen Kane</td>\n",
       "      <td>https://www.metacritic.com/movie/citizen-kane</td>\n",
       "    </tr>\n",
       "    <tr>\n",
       "      <th>2</th>\n",
       "      <td>Rear Window</td>\n",
       "      <td>https://www.metacritic.com/movie/rear-window</td>\n",
       "    </tr>\n",
       "    <tr>\n",
       "      <th>3</th>\n",
       "      <td>Casablanca</td>\n",
       "      <td>https://www.metacritic.com/movie/casablanca</td>\n",
       "    </tr>\n",
       "    <tr>\n",
       "      <th>4</th>\n",
       "      <td>Boyhood</td>\n",
       "      <td>https://www.metacritic.com/movie/boyhood</td>\n",
       "    </tr>\n",
       "    <tr>\n",
       "      <th>...</th>\n",
       "      <td>...</td>\n",
       "      <td>...</td>\n",
       "    </tr>\n",
       "    <tr>\n",
       "      <th>195</th>\n",
       "      <td>The African Queen</td>\n",
       "      <td>https://www.metacritic.com/movie/the-african-q...</td>\n",
       "    </tr>\n",
       "    <tr>\n",
       "      <th>196</th>\n",
       "      <td>The Triplets of Belleville</td>\n",
       "      <td>https://www.metacritic.com/movie/the-triplets-...</td>\n",
       "    </tr>\n",
       "    <tr>\n",
       "      <th>197</th>\n",
       "      <td>The Queen</td>\n",
       "      <td>https://www.metacritic.com/movie/the-queen</td>\n",
       "    </tr>\n",
       "    <tr>\n",
       "      <th>198</th>\n",
       "      <td>Flee</td>\n",
       "      <td>https://www.metacritic.com/movie/flee</td>\n",
       "    </tr>\n",
       "    <tr>\n",
       "      <th>199</th>\n",
       "      <td>All Quiet on the Western Front</td>\n",
       "      <td>https://www.metacritic.com/movie/all-quiet-on-...</td>\n",
       "    </tr>\n",
       "  </tbody>\n",
       "</table>\n",
       "<p>200 rows × 2 columns</p>\n",
       "</div>"
      ],
      "text/plain": [
       "                              movie  \\\n",
       "0                     The Godfather   \n",
       "1                      Citizen Kane   \n",
       "2                       Rear Window   \n",
       "3                        Casablanca   \n",
       "4                           Boyhood   \n",
       "..                              ...   \n",
       "195               The African Queen   \n",
       "196      The Triplets of Belleville   \n",
       "197                       The Queen   \n",
       "198                            Flee   \n",
       "199  All Quiet on the Western Front   \n",
       "\n",
       "                                                  link  \n",
       "0       https://www.metacritic.com/movie/the-godfather  \n",
       "1        https://www.metacritic.com/movie/citizen-kane  \n",
       "2         https://www.metacritic.com/movie/rear-window  \n",
       "3          https://www.metacritic.com/movie/casablanca  \n",
       "4             https://www.metacritic.com/movie/boyhood  \n",
       "..                                                 ...  \n",
       "195  https://www.metacritic.com/movie/the-african-q...  \n",
       "196  https://www.metacritic.com/movie/the-triplets-...  \n",
       "197         https://www.metacritic.com/movie/the-queen  \n",
       "198              https://www.metacritic.com/movie/flee  \n",
       "199  https://www.metacritic.com/movie/all-quiet-on-...  \n",
       "\n",
       "[200 rows x 2 columns]"
      ]
     },
     "execution_count": 11,
     "metadata": {},
     "output_type": "execute_result"
    }
   ],
   "source": [
    "MovieLinksDF"
   ]
  },
  {
   "cell_type": "code",
   "execution_count": 131,
   "id": "920c509a-d75b-432f-9109-4eb08c661552",
   "metadata": {},
   "outputs": [],
   "source": [
    "MovieLinksDF.to_csv('ungoyalla_movies.csv', quotechar='\"')"
   ]
  },
  {
   "cell_type": "code",
   "execution_count": 12,
   "id": "7f23b5f5-c0fc-4aaf-a87d-36314d1b48a7",
   "metadata": {},
   "outputs": [],
   "source": [
    "import pandas as pd\n",
    "MovieLinksDF = pd.read_pickle('moviedb.pkl')"
   ]
  },
  {
   "cell_type": "markdown",
   "id": "b44bd5a2-e5a9-407f-9651-8eeb76de6098",
   "metadata": {},
   "source": [
    "# Creating Dictionary \n",
    "---\n",
    "\n",
    "We have created a dictionary with multiple layers such that movie name is key and for the next level director name is key\n",
    "for Multiple director movies, we have added multiple keys (using directors ) on the inner level with same genre"
   ]
  },
  {
   "cell_type": "code",
   "execution_count": 13,
   "id": "76daf641-8c56-4117-b156-77f003a3b3fe",
   "metadata": {},
   "outputs": [
    {
     "data": {
      "text/html": [
       "<div>\n",
       "<style scoped>\n",
       "    .dataframe tbody tr th:only-of-type {\n",
       "        vertical-align: middle;\n",
       "    }\n",
       "\n",
       "    .dataframe tbody tr th {\n",
       "        vertical-align: top;\n",
       "    }\n",
       "\n",
       "    .dataframe thead th {\n",
       "        text-align: right;\n",
       "    }\n",
       "</style>\n",
       "<table border=\"1\" class=\"dataframe\">\n",
       "  <thead>\n",
       "    <tr style=\"text-align: right;\">\n",
       "      <th></th>\n",
       "      <th>movie</th>\n",
       "      <th>link</th>\n",
       "      <th>director</th>\n",
       "      <th>genre</th>\n",
       "    </tr>\n",
       "  </thead>\n",
       "  <tbody>\n",
       "    <tr>\n",
       "      <th>0</th>\n",
       "      <td>The Godfather</td>\n",
       "      <td>https://www.metacritic.com/movie/the-godfather</td>\n",
       "      <td>[Francis Ford Coppola]</td>\n",
       "      <td>[Drama, Thriller, Crime]</td>\n",
       "    </tr>\n",
       "    <tr>\n",
       "      <th>1</th>\n",
       "      <td>Citizen Kane</td>\n",
       "      <td>https://www.metacritic.com/movie/citizen-kane</td>\n",
       "      <td>[Orson Welles]</td>\n",
       "      <td>[Drama, Mystery]</td>\n",
       "    </tr>\n",
       "    <tr>\n",
       "      <th>2</th>\n",
       "      <td>Rear Window</td>\n",
       "      <td>https://www.metacritic.com/movie/rear-window</td>\n",
       "      <td>[Alfred Hitchcock]</td>\n",
       "      <td>[Mystery, Thriller]</td>\n",
       "    </tr>\n",
       "    <tr>\n",
       "      <th>3</th>\n",
       "      <td>Casablanca</td>\n",
       "      <td>https://www.metacritic.com/movie/casablanca</td>\n",
       "      <td>[Michael Curtiz]</td>\n",
       "      <td>[Drama, Romance, War]</td>\n",
       "    </tr>\n",
       "    <tr>\n",
       "      <th>4</th>\n",
       "      <td>Boyhood</td>\n",
       "      <td>https://www.metacritic.com/movie/boyhood</td>\n",
       "      <td>[Richard Linklater]</td>\n",
       "      <td>[Drama]</td>\n",
       "    </tr>\n",
       "    <tr>\n",
       "      <th>...</th>\n",
       "      <td>...</td>\n",
       "      <td>...</td>\n",
       "      <td>...</td>\n",
       "      <td>...</td>\n",
       "    </tr>\n",
       "    <tr>\n",
       "      <th>495</th>\n",
       "      <td>Fateless</td>\n",
       "      <td>https://www.metacritic.com/movie/fateless</td>\n",
       "      <td>[Lajos Koltai]</td>\n",
       "      <td>[Drama]</td>\n",
       "    </tr>\n",
       "    <tr>\n",
       "      <th>496</th>\n",
       "      <td>Happy as Lazzaro</td>\n",
       "      <td>https://www.metacritic.com/movie/happy-as-lazzaro</td>\n",
       "      <td>[Alice Rohrwacher]</td>\n",
       "      <td>[Drama]</td>\n",
       "    </tr>\n",
       "    <tr>\n",
       "      <th>497</th>\n",
       "      <td>The Fog of War: Eleven Lessons from the Life o...</td>\n",
       "      <td>https://www.metacritic.com/movie/the-fog-of-wa...</td>\n",
       "      <td>[Errol Morris]</td>\n",
       "      <td>[War, Documentary]</td>\n",
       "    </tr>\n",
       "    <tr>\n",
       "      <th>498</th>\n",
       "      <td>Uncle Boonmee Who Can Recall His Past Lives</td>\n",
       "      <td>https://www.metacritic.com/movie/uncle-boonmee...</td>\n",
       "      <td>[Apichatpong Weerasethakul]</td>\n",
       "      <td>[Fantasy, Comedy]</td>\n",
       "    </tr>\n",
       "    <tr>\n",
       "      <th>499</th>\n",
       "      <td>Brokeback Mountain</td>\n",
       "      <td>https://www.metacritic.com/movie/brokeback-mou...</td>\n",
       "      <td>[Ang Lee]</td>\n",
       "      <td>[Drama, Romance, Western]</td>\n",
       "    </tr>\n",
       "  </tbody>\n",
       "</table>\n",
       "<p>500 rows × 4 columns</p>\n",
       "</div>"
      ],
      "text/plain": [
       "                                                 movie  \\\n",
       "0                                        The Godfather   \n",
       "1                                         Citizen Kane   \n",
       "2                                          Rear Window   \n",
       "3                                           Casablanca   \n",
       "4                                              Boyhood   \n",
       "..                                                 ...   \n",
       "495                                           Fateless   \n",
       "496                                   Happy as Lazzaro   \n",
       "497  The Fog of War: Eleven Lessons from the Life o...   \n",
       "498        Uncle Boonmee Who Can Recall His Past Lives   \n",
       "499                                 Brokeback Mountain   \n",
       "\n",
       "                                                  link  \\\n",
       "0       https://www.metacritic.com/movie/the-godfather   \n",
       "1        https://www.metacritic.com/movie/citizen-kane   \n",
       "2         https://www.metacritic.com/movie/rear-window   \n",
       "3          https://www.metacritic.com/movie/casablanca   \n",
       "4             https://www.metacritic.com/movie/boyhood   \n",
       "..                                                 ...   \n",
       "495          https://www.metacritic.com/movie/fateless   \n",
       "496  https://www.metacritic.com/movie/happy-as-lazzaro   \n",
       "497  https://www.metacritic.com/movie/the-fog-of-wa...   \n",
       "498  https://www.metacritic.com/movie/uncle-boonmee...   \n",
       "499  https://www.metacritic.com/movie/brokeback-mou...   \n",
       "\n",
       "                        director                      genre  \n",
       "0         [Francis Ford Coppola]   [Drama, Thriller, Crime]  \n",
       "1                 [Orson Welles]           [Drama, Mystery]  \n",
       "2             [Alfred Hitchcock]        [Mystery, Thriller]  \n",
       "3               [Michael Curtiz]      [Drama, Romance, War]  \n",
       "4            [Richard Linklater]                    [Drama]  \n",
       "..                           ...                        ...  \n",
       "495               [Lajos Koltai]                    [Drama]  \n",
       "496           [Alice Rohrwacher]                    [Drama]  \n",
       "497               [Errol Morris]         [War, Documentary]  \n",
       "498  [Apichatpong Weerasethakul]          [Fantasy, Comedy]  \n",
       "499                    [Ang Lee]  [Drama, Romance, Western]  \n",
       "\n",
       "[500 rows x 4 columns]"
      ]
     },
     "execution_count": 13,
     "metadata": {},
     "output_type": "execute_result"
    }
   ],
   "source": [
    "MovieLinksDF"
   ]
  },
  {
   "cell_type": "code",
   "execution_count": 16,
   "id": "161821f2-a889-49c3-ab27-498bff75fdcd",
   "metadata": {},
   "outputs": [],
   "source": [
    "MOVIEDICT = {}\n",
    "\n",
    "\n",
    "for index, rows in MovieLinksDF.iterrows():\n",
    "    dirList = rows['director']\n",
    "    level2Dict = {}\n",
    "    for d in dirList:\n",
    "        level2Dict[d] = rows['genre']\n",
    "    MOVIEDICT[rows['movie']] = level2Dict"
   ]
  },
  {
   "cell_type": "markdown",
   "id": "b58afb78-8c87-4987-b8c0-256dc1be779b",
   "metadata": {},
   "source": [
    "### Directors Dict\n",
    "\n",
    "this dict is similar to the Movie dict, but the main key will be the director. Each director will have their list of movies and genres as the sublevel dictionary.\n",
    "\n",
    "\n",
    "further, we will also create a dict called `genre_dict` which will be an histogram of all the genres directed by the director and they are maintained in ascending order. This willbe highly usefull in  building the final comparision and cosine distance"
   ]
  },
  {
   "cell_type": "code",
   "execution_count": 17,
   "id": "5b49fe98-9ec3-43b7-8ffc-aa3c423b9a57",
   "metadata": {
    "tags": []
   },
   "outputs": [],
   "source": [
    "DIRECTORDICT = {}\n",
    "\n",
    "for index, rows in MovieLinksDF.iterrows():\n",
    "    dirList = rows['director']\n",
    "    level2Dict = {}\n",
    "    for d in dirList:\n",
    "        if d not in DIRECTORDICT:\n",
    "            DIRECTORDICT[d] = {}\n",
    "            DIRECTORDICT[d][\"movies\"] = []\n",
    "            DIRECTORDICT[d][\"genres\"] = []\n",
    "            DIRECTORDICT[d][\"movies\"].append(rows['movie'])\n",
    "            DIRECTORDICT[d][\"genres\"].append(rows['genre']) \n",
    "        else:\n",
    "            DIRECTORDICT[d][\"movies\"].append(rows['movie'])\n",
    "            DIRECTORDICT[d][\"genres\"].append(rows['genre']) \n",
    "\n",
    "from itertools import chain\n",
    "for key in DIRECTORDICT:\n",
    "    DIRECTORDICT[key]['genres'] = list(chain.from_iterable(DIRECTORDICT[key]['genres'] ))\n",
    "    uniq = list(set(DIRECTORDICT[key]['genres']))\n",
    "    genreDict = {}\n",
    "    for g in uniq:\n",
    "        genreDict[g] =  DIRECTORDICT[key]['genres'].count(g)\n",
    "    DIRECTORDICT[key]['genre_dict'] = genreDict\n",
    "    \n",
    "    DIRECTORDICT[key]['genre_dict'] = {k: v for k, v in sorted(DIRECTORDICT[key]['genre_dict'].items(), key=lambda item: item[1],reverse=True)}"
   ]
  },
  {
   "cell_type": "code",
   "execution_count": 18,
   "id": "dd0ed866-c2d4-4b6f-a085-c47e959b6fef",
   "metadata": {},
   "outputs": [
    {
     "data": {
      "text/plain": [
       "{'movies': [\"Schindler's List\",\n",
       "  'E.T. The Extra-Terrestrial',\n",
       "  'Saving Private Ryan',\n",
       "  'Close Encounters of the Third Kind',\n",
       "  'Jaws'],\n",
       " 'genres': ['Biography',\n",
       "  'Drama',\n",
       "  'History',\n",
       "  'War',\n",
       "  'Adventure',\n",
       "  'Sci-Fi',\n",
       "  'Drama',\n",
       "  'Fantasy',\n",
       "  'Family',\n",
       "  'Action',\n",
       "  'Drama',\n",
       "  'War',\n",
       "  'Adventure',\n",
       "  'Sci-Fi',\n",
       "  'Drama',\n",
       "  'Adventure',\n",
       "  'Thriller',\n",
       "  'Horror'],\n",
       " 'genre_dict': {'Drama': 4,\n",
       "  'Adventure': 3,\n",
       "  'Sci-Fi': 2,\n",
       "  'War': 2,\n",
       "  'Family': 1,\n",
       "  'Thriller': 1,\n",
       "  'Fantasy': 1,\n",
       "  'History': 1,\n",
       "  'Horror': 1,\n",
       "  'Action': 1,\n",
       "  'Biography': 1}}"
      ]
     },
     "execution_count": 18,
     "metadata": {},
     "output_type": "execute_result"
    }
   ],
   "source": [
    "\n",
    "DIRECTORDICT['Steven Spielberg']"
   ]
  },
  {
   "cell_type": "markdown",
   "id": "d98d1728-7ca2-44c7-90fb-fcbb6be32fc5",
   "metadata": {},
   "source": [
    "## compare Director Function\n",
    "---\n",
    "\n",
    "- Checks whether the director name exists in the dictionary ( case insensitive custom coded search )\n",
    "- Obtains the information from director dict\n",
    "- The prints the movies list and the `genre_dict` which is obtained from the previous section\n",
    "\n",
    "\n",
    "#### Cosine Similarity \n",
    "\n",
    "- Compute the common genres between two directors using set and list method\n",
    "- Obtain the score array for each director by looping though the common genres.\n",
    "- if the common genre is not present, then the score is made zero\n",
    "- now, the cosine dist is computed by `a.b/(||a||||b||)`"
   ]
  },
  {
   "cell_type": "code",
   "execution_count": 19,
   "id": "8cd0e55b-2af6-462d-bb6e-d972a3c0e0dd",
   "metadata": {},
   "outputs": [],
   "source": [
    "from numpy import dot\n",
    "from numpy.linalg import norm\n",
    "\n",
    "\n",
    "def compareDirectors(a,b):\n",
    "    found = 0\n",
    "    keyVal  = ''\n",
    "    for key in DIRECTORDICT:\n",
    "        if(a.lower() == key.lower()):\n",
    "            found = 1\n",
    "            keyVal = key\n",
    "            break;\n",
    "    if(not found):\n",
    "        print(\"Director \", a , \" not found \")\n",
    "        return\n",
    "    \n",
    "    printDirectors(a)\n",
    "    \n",
    "    dir_a = DIRECTORDICT[keyVal]\n",
    "    \n",
    "    found = 0\n",
    "    keyVal  = ''\n",
    "    for key in DIRECTORDICT:\n",
    "        if(b.lower() == key.lower()):\n",
    "            found = 1\n",
    "            keyVal = key\n",
    "            break;\n",
    "    if(not found):\n",
    "        print(\"Director \", b , \" not found \")\n",
    "        return\n",
    "    \n",
    "    printDirectors(b)\n",
    "    \n",
    "    \n",
    "    dir_b = DIRECTORDICT[keyVal]\n",
    "    \n",
    "    total = dir_a['genres'] + dir_b['genres']\n",
    "    # print(dir_a['genres'])\n",
    "    # print(dir_b['genres'])\n",
    "    genreTotal = list(set(total))\n",
    "    \n",
    "    # print(genreTotal)\n",
    "    # Genrecommon = list(set(dir_a['genres'] + dir_b['genres']))\n",
    "    # print(Genrecommon)\n",
    "    score_a = np.zeros(len(genreTotal))\n",
    "    score_b = np.zeros(len(genreTotal))\n",
    "    \n",
    "    for i,g in enumerate(genreTotal):\n",
    "        if g in dir_a['genre_dict']:\n",
    "            score_a[i] = dir_a['genre_dict'][g]\n",
    "        else:\n",
    "            score_a[i] = 0\n",
    "    \n",
    "    for i,g in enumerate(genreTotal):\n",
    "        if g in dir_b['genre_dict']:\n",
    "            score_b[i] = dir_b['genre_dict'][g]\n",
    "        else:\n",
    "            score_b[i] = 0\n",
    "    \n",
    "    \n",
    "    # print(score_a)\n",
    "    # print(score_b)\n",
    "    cos_sim = dot(score_a, score_b)/(norm(score_a)*norm(score_b))\n",
    "    \n",
    "    print(\"Cosine Similarity :\" ,cos_sim)\n",
    "    "
   ]
  },
  {
   "cell_type": "markdown",
   "id": "660f752f-7d74-4d3a-97b4-38a360eed6b8",
   "metadata": {},
   "source": [
    "### Print Director Details \n",
    "\n",
    "function which prints the details of the director from the database "
   ]
  },
  {
   "cell_type": "code",
   "execution_count": 21,
   "id": "9673812a-7ec8-4e41-bc31-1419e0d58ed1",
   "metadata": {
    "tags": []
   },
   "outputs": [],
   "source": [
    "def printDirectors(director):\n",
    "    found = 0\n",
    "    keyVal  = ''\n",
    "    for key in DIRECTORDICT:\n",
    "        if(director.lower() == key.lower()):\n",
    "            found = 1\n",
    "            keyVal = key\n",
    "            break;\n",
    "    if(not found):\n",
    "        print(\"Director \", director , \" not found \")\n",
    "        return\n",
    "    \n",
    "    directorObj = DIRECTORDICT[keyVal]\n",
    "    \n",
    "    print(f\"Director {keyVal}  has directed \",end=\"\")\n",
    "    for m in directorObj['movies']:\n",
    "        print(f'{m}',end=\", \")\n",
    "    print('')\n",
    "    \n",
    "    \n",
    "    print(f\"His most directed genres are \",end=\"\")\n",
    "    \n",
    "    for k,v in directorObj['genre_dict'].items():\n",
    "        print(f\"{k} : {v}\",end=\", \")\n",
    "    print(\"\")\n",
    "    \n",
    "    print('')"
   ]
  },
  {
   "cell_type": "code",
   "execution_count": 22,
   "id": "d0c14fa1-3cd7-4cf1-ac76-c9ce0d5e5893",
   "metadata": {},
   "outputs": [
    {
     "name": "stdout",
     "output_type": "stream",
     "text": [
      "Director Steven Spielberg  has directed Schindler's List, E.T. The Extra-Terrestrial, Saving Private Ryan, Close Encounters of the Third Kind, Jaws, \n",
      "His most directed genres are Drama : 4, Adventure : 3, Sci-Fi : 2, War : 2, Family : 1, Thriller : 1, Fantasy : 1, History : 1, Horror : 1, Action : 1, Biography : 1, \n",
      "\n"
     ]
    }
   ],
   "source": [
    "printDirectors(\"Steven Spielberg\")"
   ]
  },
  {
   "cell_type": "markdown",
   "id": "20817cf6-7e07-48f4-b7ac-4b362467ff69",
   "metadata": {},
   "source": [
    "### Movie Detail\n",
    "\n",
    "function identifies the details of the movie from the movie dict and then displays the details"
   ]
  },
  {
   "cell_type": "code",
   "execution_count": 23,
   "id": "61199590-ce48-46b7-9919-58c1cf35c9f5",
   "metadata": {},
   "outputs": [],
   "source": [
    "def findMovieDetail(movie):\n",
    "    found = 0\n",
    "    keyVal  = ''\n",
    "    for key in MOVIEDICT:\n",
    "        if(movie.lower() == key.lower()):\n",
    "            found = 1\n",
    "            keyVal = key\n",
    "            break;\n",
    "    if(not found):\n",
    "        print(\"Movie \", movie , \" not found \")\n",
    "        return\n",
    "    \n",
    "    movieObj = MOVIEDICT[keyVal]\n",
    "    \n",
    "    print(\"The director of the movie is \",end=\"\")\n",
    "    for direc in movieObj.keys():\n",
    "        print(f\"{direc}\",end=\", \")\n",
    "    \n",
    "    print(\"\")\n",
    "    \n",
    "    print(\"The genre of the movie is : \",end=\"\" )\n",
    "    for direc in movieObj.keys():\n",
    "        for genre in movieObj[direc]:\n",
    "            print(f\"{genre}\",end=\", \")"
   ]
  },
  {
   "cell_type": "code",
   "execution_count": 24,
   "id": "e5e1fb32-aab2-400d-a109-0f62bb9d306c",
   "metadata": {},
   "outputs": [
    {
     "name": "stdout",
     "output_type": "stream",
     "text": [
      "The director of the movie is Steven Spielberg, \n",
      "The genre of the movie is : Action, Drama, War, "
     ]
    }
   ],
   "source": [
    "findMovieDetail(\"saving PRIVATE ryan\")"
   ]
  },
  {
   "cell_type": "markdown",
   "id": "074138fb-56ee-48c5-a66c-9d5dc75de3ba",
   "metadata": {},
   "source": [
    "### Example output of Compare function"
   ]
  },
  {
   "cell_type": "code",
   "execution_count": 25,
   "id": "968c3976-de35-46f5-a081-76a24fbca5e7",
   "metadata": {},
   "outputs": [
    {
     "name": "stdout",
     "output_type": "stream",
     "text": [
      "Director Steve McQueen  has directed 12 Years a Slave, Small Axe: Lovers Rock, Small Axe: Mangrove, Small Axe: Education, \n",
      "His most directed genres are Drama : 4, History : 1, Biography : 1, \n",
      "\n",
      "Director Steven Spielberg  has directed Schindler's List, E.T. The Extra-Terrestrial, Saving Private Ryan, Close Encounters of the Third Kind, Jaws, \n",
      "His most directed genres are Drama : 4, Adventure : 3, Sci-Fi : 2, War : 2, Family : 1, Thriller : 1, Fantasy : 1, History : 1, Horror : 1, Action : 1, Biography : 1, \n",
      "\n",
      "Cosine Similarity : 0.6708203932499369\n"
     ]
    }
   ],
   "source": [
    "compareDirectors('Steve McQueen','Steven Spielberg')"
   ]
  },
  {
   "cell_type": "markdown",
   "id": "4c77b5d9-bed6-4520-9119-81987a2debe2",
   "metadata": {},
   "source": [
    "### MAIN CODE"
   ]
  },
  {
   "cell_type": "code",
   "execution_count": null,
   "id": "c2443014-b1cd-4a7e-ba79-40d395a3743b",
   "metadata": {},
   "outputs": [
    {
     "name": "stdout",
     "output_type": "stream",
     "text": [
      "\n",
      "What do you want to check on Metacritic? (Please choose ‘movie’, ‘director’, or ‘comparision’)\n"
     ]
    },
    {
     "name": "stdin",
     "output_type": "stream",
     "text": [
      "input: MOVIE\n"
     ]
    },
    {
     "name": "stdout",
     "output_type": "stream",
     "text": [
      "What movie do you want to check?\n"
     ]
    },
    {
     "name": "stdin",
     "output_type": "stream",
     "text": [
      "input:  saving private ryan\n"
     ]
    },
    {
     "name": "stdout",
     "output_type": "stream",
     "text": [
      "The director of the movie is Steven Spielberg, \n",
      "The genre of the movie is : Action, Drama, War, \n",
      "What do you want to check on Metacritic? (Please choose ‘movie’, ‘director’, or ‘comparision’)\n"
     ]
    }
   ],
   "source": [
    "while True:\n",
    "    print(\"\\nWhat do you want to check on Metacritic? (Please choose ‘movie’, ‘director’, or ‘comparision’)\")\n",
    "    com = input('input:')\n",
    "    \n",
    "    if(com.lower() == 'movie'):\n",
    "        print(\"What movie do you want to check?\")\n",
    "        com = input('input: ')\n",
    "        findMovieDetail(com)\n",
    "    elif(com.lower() == 'director'):\n",
    "        print(\"Who do you want to check?\")\n",
    "        com = input('input: ')\n",
    "        printDirectors(com)\n",
    "    elif(com.lower() == 'comparision'):\n",
    "        print(\"Who do you want to check?\")\n",
    "        com = input('input: ')\n",
    "        com1 = input('input: ')\n",
    "        compareDirectors(com,com1)\n",
    "    else:\n",
    "        break;"
   ]
  },
  {
   "cell_type": "markdown",
   "id": "dc2a1ed0-8150-44b0-8389-664ccae9466c",
   "metadata": {},
   "source": []
  }
 ],
 "metadata": {
  "kernelspec": {
   "display_name": "Python 3 (ipykernel)",
   "language": "python",
   "name": "python3"
  },
  "language_info": {
   "codemirror_mode": {
    "name": "ipython",
    "version": 3
   },
   "file_extension": ".py",
   "mimetype": "text/x-python",
   "name": "python",
   "nbconvert_exporter": "python",
   "pygments_lexer": "ipython3",
   "version": "3.10.6"
  }
 },
 "nbformat": 4,
 "nbformat_minor": 5
}
